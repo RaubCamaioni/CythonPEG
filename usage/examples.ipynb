{
 "cells": [
  {
   "cell_type": "markdown",
   "metadata": {},
   "source": [
    "Example usage of the provided \"cython_peg.py\" parsing file.  This code is not mature/complex enough to be a python module.  \n",
    "The parsing will probably need to be adjusted for specific project needs.  The pyparsing syntax is dense but powerful.  \n",
    "It will take some document reading to learn the pyparsing syntax and make edits."
   ]
  },
  {
   "cell_type": "code",
   "execution_count": 1,
   "metadata": {},
   "outputs": [
    {
     "name": "stdout",
     "output_type": "stream",
     "text": [
      "def add_and_multiply(x: double, y: double) -> double:\n",
      "    ...\n",
      "\n",
      "def fibonacci(n: int) -> int:\n",
      "    \"\"\"some sort of algorithm?\"\"\"\n",
      "    ...\n",
      "\n",
      "def sum_array(arr: int[COLON]) -> int:\n",
      "    ...\n",
      "\n",
      "class State(Enum):\n",
      "    state1=1\n",
      "    state2=2\n",
      "\n",
      "class Point:\n",
      "\n",
      "    class BabyPoint:\n",
      "\n",
      "        class BabyPoint2:\n",
      "\n",
      "            def distance_to_baby(self, y: double) -> double:\n",
      "                ...\n",
      "\n",
      "\n",
      "        def distance_to_baby(self, y: double) -> double:\n",
      "            ...\n",
      "\n",
      "\n",
      "    def distance_to_origin(self) -> double:\n",
      "        \"\"\"calculate some distance stuff\"\"\"\n",
      "        ...\n",
      "\n",
      "    def distance_to_point(self, x2: double, y2: double) -> double:\n",
      "        ...\n",
      "\n",
      "\n",
      "\n",
      "def compute_sin(angle: double) -> double:\n",
      "    ...\n",
      "\n",
      "\n"
     ]
    }
   ],
   "source": [
    "import sys\n",
    "import os\n",
    "sys.path.insert(0, os.path.abspath('..'))\n",
    "from cython_peg import cython2stub\n",
    "from pathlib import Path\n",
    "\n",
    "# basic import template\n",
    "# working on dynamic imports\n",
    "import_template = \"\\n\".join([\n",
    "\"import numpy as np\",\n",
    "\"from enum import Enum\",\n",
    "\"from typing import Optional, Tuple, Dict, List, Generator, Union, DefaultDict\",\n",
    "\"\\n# type convertions from cython to python\",\n",
    "\"float64 = float32 = double = long = longlong = float\",\n",
    "\"uint64 = uint32 = uint16 = uint8 = short = int\",\n",
    "\"COLON = str\",\n",
    "\"\\n\"])\n",
    "\n",
    "examples = Path(r\"../examples/\").glob(\"*.pyx\")\n",
    "for example in examples:\n",
    "    \n",
    "    # generate stub file\n",
    "    stub_file = cython2stub(example)\n",
    "    \n",
    "    # save the type file\n",
    "    with open(example.with_suffix(\".pyi\"), mode='w') as f:\n",
    "        f.write(import_template+stub_file)\n",
    "        \n",
    "    # print output\n",
    "    print(stub_file)\n"
   ]
  }
 ],
 "metadata": {
  "kernelspec": {
   "display_name": "Python 3",
   "language": "python",
   "name": "python3"
  },
  "language_info": {
   "codemirror_mode": {
    "name": "ipython",
    "version": 3
   },
   "file_extension": ".py",
   "mimetype": "text/x-python",
   "name": "python",
   "nbconvert_exporter": "python",
   "pygments_lexer": "ipython3",
   "version": "3.8.10"
  },
  "orig_nbformat": 4
 },
 "nbformat": 4,
 "nbformat_minor": 2
}
