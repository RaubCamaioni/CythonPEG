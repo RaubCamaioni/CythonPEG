{
 "cells": [
  {
   "cell_type": "markdown",
   "metadata": {},
   "source": [
    "Example usage of the provided \"cython_peg.py\" parsing file.  This code is not mature/complex enough to be a python module.  \n",
    "The parsing will probably need to be adjusted for specific project needs.  The pyparsing syntax is dense but powerful.  \n",
    "It will take some document reading to learn the pyparsing syntax and make edits."
   ]
  },
  {
   "cell_type": "code",
   "execution_count": 1,
   "metadata": {},
   "outputs": [],
   "source": [
    "import sys\n",
    "import os\n",
    "sys.path.insert(0, os.path.abspath('..'))\n",
    "from cython_peg import cython2stub\n",
    "from pathlib import Path\n",
    "\n",
    "# basic import template\n",
    "# easier than transfering cython imports and modifying used/unused imports\n",
    "# 90% of cython files use the basic types\n",
    "# memmory views colons are transfered as the type COLON\n",
    "import_template = \"\\n\".join([\n",
    "\"import numpy as np\",\n",
    "\"from enum import Enum\",\n",
    "\"from typing import Optional, Tuple, Dict, List, Generator, Union, DefaultDict\",\n",
    "\"\\n# type convertions from cython to python\",\n",
    "\"float64 = float32 = double = long = longlong = float\",\n",
    "\"uint64 = uint32 = uint16 = uint8 = short = int\",\n",
    "\"COLON = str\",\n",
    "\"\\n\"])\n",
    "\n",
    "examples = Path(r\"../examples/\").glob(\"*.pyx\")\n",
    "for example in examples:\n",
    "    \n",
    "    # generate stub file\n",
    "    stub_file = cython2stub(example)\n",
    "    \n",
    "    # g\n",
    "\n",
    "    \n",
    "    # save the type file\n",
    "    with open(example.with_suffix(\".pyi\"), mode='w') as f:\n",
    "        f.write(import_template+stub_file)\n"
   ]
  }
 ],
 "metadata": {
  "kernelspec": {
   "display_name": "Python 3",
   "language": "python",
   "name": "python3"
  },
  "language_info": {
   "codemirror_mode": {
    "name": "ipython",
    "version": 3
   },
   "file_extension": ".py",
   "mimetype": "text/x-python",
   "name": "python",
   "nbconvert_exporter": "python",
   "pygments_lexer": "ipython3",
   "version": "3.8.10"
  },
  "orig_nbformat": 4
 },
 "nbformat": 4,
 "nbformat_minor": 2
}
