{
 "cells": [
  {
   "cell_type": "markdown",
   "metadata": {},
   "source": [
    "Example usage of the provided \"cython_peg.py\" parsing file.  This code is not mature/complex enough to be a python module.  \n",
    "The parsing will probably need to be adjusted for specific project needs.  The pyparsing syntax is dense but powerful.  \n",
    "It will take some document reading to learn the pyparsing syntax and make edits."
   ]
  },
  {
   "cell_type": "code",
   "execution_count": 1,
   "metadata": {},
   "outputs": [
    {
     "ename": "TypeError",
     "evalue": "class2str() missing 1 required positional argument: 'body'",
     "output_type": "error",
     "traceback": [
      "\u001b[0;31m---------------------------------------------------------------------------\u001b[0m",
      "\u001b[0;31mTypeError\u001b[0m                                 Traceback (most recent call last)",
      "Cell \u001b[0;32mIn[1], line 25\u001b[0m\n\u001b[1;32m     21\u001b[0m examples \u001b[39m=\u001b[39m Path(\u001b[39mr\u001b[39m\u001b[39m\"\u001b[39m\u001b[39m../examples/\u001b[39m\u001b[39m\"\u001b[39m)\u001b[39m.\u001b[39mglob(\u001b[39m\"\u001b[39m\u001b[39m*.pyx\u001b[39m\u001b[39m\"\u001b[39m)\n\u001b[1;32m     22\u001b[0m \u001b[39mfor\u001b[39;00m example \u001b[39min\u001b[39;00m examples:\n\u001b[1;32m     23\u001b[0m     \n\u001b[1;32m     24\u001b[0m     \u001b[39m# generate stub file\u001b[39;00m\n\u001b[0;32m---> 25\u001b[0m     stub_file \u001b[39m=\u001b[39m cython2stub(example)\n\u001b[1;32m     27\u001b[0m     \u001b[39m# save the type file\u001b[39;00m\n\u001b[1;32m     28\u001b[0m     \u001b[39mwith\u001b[39;00m \u001b[39mopen\u001b[39m(example\u001b[39m.\u001b[39mwith_suffix(\u001b[39m\"\u001b[39m\u001b[39m.pyi\u001b[39m\u001b[39m\"\u001b[39m), mode\u001b[39m=\u001b[39m\u001b[39m'\u001b[39m\u001b[39mw\u001b[39m\u001b[39m'\u001b[39m) \u001b[39mas\u001b[39;00m f:\n",
      "File \u001b[0;32m~/source/CythonPEG/cython_peg.py:347\u001b[0m, in \u001b[0;36mcython2stub\u001b[0;34m(file)\u001b[0m\n\u001b[1;32m    345\u001b[0m     input_code \u001b[39m=\u001b[39m f\u001b[39m.\u001b[39mread()\n\u001b[1;32m    346\u001b[0m tree \u001b[39m=\u001b[39m \u001b[39mlist\u001b[39m(cython_parser\u001b[39m.\u001b[39mscan_string(input_code\u001b[39m+\u001b[39m\u001b[39m\"\u001b[39m\u001b[39m\\n\u001b[39;00m\u001b[39m\\n\u001b[39;00m\u001b[39m\"\u001b[39m))\n\u001b[0;32m--> 347\u001b[0m \u001b[39mreturn\u001b[39;00m parse_tree_to_stub_file(tree)\n",
      "File \u001b[0;32m~/source/CythonPEG/cython_peg.py:309\u001b[0m, in \u001b[0;36mparse_tree_to_stub_file\u001b[0;34m(parseTree)\u001b[0m\n\u001b[1;32m    307\u001b[0m \u001b[39melif\u001b[39;00m definitionName \u001b[39m==\u001b[39m \u001b[39m\"\u001b[39m\u001b[39mcclass\u001b[39m\u001b[39m\"\u001b[39m:\n\u001b[1;32m    308\u001b[0m     decleration, docs, body \u001b[39m=\u001b[39m result\n\u001b[0;32m--> 309\u001b[0m     stub_file \u001b[39m+\u001b[39m\u001b[39m=\u001b[39m class2str(decleration[\u001b[39m0\u001b[39;49m], \u001b[39m\"\u001b[39;49m\u001b[39m\"\u001b[39;49m, docs) \u001b[39m+\u001b[39m \u001b[39m\"\u001b[39m\u001b[39m\\n\u001b[39;00m\u001b[39m\"\u001b[39m\n\u001b[1;32m    310\u001b[0m     \u001b[39mfor\u001b[39;00m i, b \u001b[39min\u001b[39;00m \u001b[39menumerate\u001b[39m(body):\n\u001b[1;32m    312\u001b[0m         \u001b[39mif\u001b[39;00m \u001b[39mnot\u001b[39;00m \u001b[39misinstance\u001b[39m(b, ParseResults):\n",
      "\u001b[0;31mTypeError\u001b[0m: class2str() missing 1 required positional argument: 'body'"
     ]
    }
   ],
   "source": [
    "import sys\n",
    "import os\n",
    "sys.path.insert(0, os.path.abspath('..'))\n",
    "from cython_peg import cython2stub\n",
    "from pathlib import Path\n",
    "\n",
    "# basic import template\n",
    "# easier than transfering cython imports and modifying used/unused imports\n",
    "# 90% of cython files use the basic types\n",
    "# memmory views colons are transfered as the type COLON\n",
    "import_template = \"\\n\".join([\n",
    "\"import numpy as np\",\n",
    "\"from enum import Enum\",\n",
    "\"from typing import Optional, Tuple, Dict, List, Generator, Union, DefaultDict\",\n",
    "\"\\n# type convertions from cython to python\",\n",
    "\"float64 = float32 = double = long = longlong = float\",\n",
    "\"uint64 = uint32 = uint16 = uint8 = short = int\",\n",
    "\"COLON = str\",\n",
    "\"\\n\"])\n",
    "\n",
    "examples = Path(r\"../examples/\").glob(\"*.pyx\")\n",
    "for example in examples:\n",
    "    \n",
    "    # generate stub file\n",
    "    stub_file = cython2stub(example)\n",
    "    \n",
    "    # save the type file\n",
    "    with open(example.with_suffix(\".pyi\"), mode='w') as f:\n",
    "        f.write(import_template+stub_file)\n",
    "        \n",
    "    print(stub_file)\n"
   ]
  }
 ],
 "metadata": {
  "kernelspec": {
   "display_name": "Python 3",
   "language": "python",
   "name": "python3"
  },
  "language_info": {
   "codemirror_mode": {
    "name": "ipython",
    "version": 3
   },
   "file_extension": ".py",
   "mimetype": "text/x-python",
   "name": "python",
   "nbconvert_exporter": "python",
   "pygments_lexer": "ipython3",
   "version": "3.8.10"
  },
  "orig_nbformat": 4
 },
 "nbformat": 4,
 "nbformat_minor": 2
}
